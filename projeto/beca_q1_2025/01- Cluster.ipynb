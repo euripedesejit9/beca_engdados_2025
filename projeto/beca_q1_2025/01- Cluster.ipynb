{
 "cells": [
  {
   "cell_type": "markdown",
   "metadata": {
    "application/vnd.databricks.v1+cell": {
     "cellMetadata": {
      "byteLimit": 2048000,
      "rowLimit": 10000
     },
     "inputWidgets": {},
     "nuid": "91b0992d-90aa-4c38-9625-b04060302579",
     "showTitle": false,
     "tableResultSettingsMap": {},
     "title": ""
    }
   },
   "source": [
    "# Introdução aos Clusters do Databricks\n",
    "\n",
    "Clusters do Databricks são um conjunto de recursos de computação que permitem executar Apache Spark e outras cargas de trabalho. Os clusters simplificam a execução de cargas de trabalho de big data ao gerenciar a infraestrutura subjacente."
   ]
  },
  {
   "cell_type": "markdown",
   "metadata": {
    "application/vnd.databricks.v1+cell": {
     "cellMetadata": {
      "byteLimit": 2048000,
      "rowLimit": 10000
     },
     "inputWidgets": {},
     "nuid": "28bad227-af11-4b71-b618-347bd8096596",
     "showTitle": false,
     "tableResultSettingsMap": {},
     "title": ""
    }
   },
   "source": [
    "## O que é um Cluster do Databricks?\n",
    "\n",
    "Um cluster do Databricks é um conjunto de máquinas virtuais configuradas para executar Apache Spark. Os clusters podem ser escalados para cima ou para baixo com base nos requisitos de carga de trabalho e são essenciais para processar grandes volumes de dados de maneira eficiente."
   ]
  },
  {
   "cell_type": "markdown",
   "metadata": {
    "application/vnd.databricks.v1+cell": {
     "cellMetadata": {
      "byteLimit": 2048000,
      "rowLimit": 10000
     },
     "inputWidgets": {},
     "nuid": "6cbb5ab7-3c4c-4015-bf05-9a2e062b6b09",
     "showTitle": false,
     "tableResultSettingsMap": {},
     "title": ""
    }
   },
   "source": [
    "### Componentes de um Cluster do Databricks\n",
    "- **Nó Driver:** Coordena a execução das tarefas do Spark.\n",
    "- **Nós Worker:** Executam as tarefas e armazenam os dados."
   ]
  },
  {
   "cell_type": "markdown",
   "metadata": {
    "application/vnd.databricks.v1+cell": {
     "cellMetadata": {
      "byteLimit": 2048000,
      "rowLimit": 10000
     },
     "inputWidgets": {},
     "nuid": "33849883-fb60-45df-91ad-9558367427a2",
     "showTitle": false,
     "tableResultSettingsMap": {},
     "title": ""
    }
   },
   "source": [
    "## Vantagens dos Clusters do Databricks\n",
    "\n",
    "1. **Escalabilidade:** Facilmente ajustável para lidar com grandes volumes de dados.\n",
    "2. **Desempenho:** Otimizado para Apache Spark, garantindo processamento rápido de dados.\n",
    "3. **Flexibilidade:** Suporta múltiplas linguagens como Python, Scala, R e SQL.\n",
    "4. **Integração:** Integra-se facilmente com várias fontes de dados e ferramentas.\n",
    "5. **Serviço Gerenciado:** Reduz a complexidade de gerenciar a infraestrutura do Spark."
   ]
  },
  {
   "cell_type": "markdown",
   "metadata": {
    "application/vnd.databricks.v1+cell": {
     "cellMetadata": {
      "byteLimit": 2048000,
      "rowLimit": 10000
     },
     "inputWidgets": {},
     "nuid": "56a747a8-f73b-478f-9781-3799a6489c9d",
     "showTitle": false,
     "tableResultSettingsMap": {},
     "title": ""
    }
   },
   "source": [
    "## Desvantagens dos Clusters do Databricks\n",
    "\n",
    "1. **Custo:** Pode ser caro, especialmente com clusters grandes ou de longa duração.\n",
    "2. **Complexidade:** Requer conhecimento de Spark e computação distribuída.\n",
    "3. **Dependência da Nuvem:** Vinculado a provedores de nuvem, potencialmente prendendo os usuários."
   ]
  },
  {
   "cell_type": "markdown",
   "metadata": {
    "application/vnd.databricks.v1+cell": {
     "cellMetadata": {
      "byteLimit": 2048000,
      "rowLimit": 10000
     },
     "inputWidgets": {},
     "nuid": "f454b653-4713-4baa-976f-ac9f23879eb7",
     "showTitle": false,
     "tableResultSettingsMap": {},
     "title": ""
    }
   },
   "source": [
    "## Calculando o Custo dos Clusters do Databricks\n",
    "\n",
    "O custo de um cluster do Databricks é influenciado por vários fatores:\n",
    "- **Tipos de Instância:** Diferentes tipos têm custos variados com base em seu poder de computação.\n",
    "- **Tamanho do Cluster:** Mais nós aumentam o custo.\n",
    "- **Tempo de Atividade:** Clusters que funcionam por mais tempo geram mais custos.\n",
    "- **Unidade Databricks (DBU):** Uma unidade de capacidade de processamento por hora."
   ]
  },
  {
   "cell_type": "code",
   "execution_count": 0,
   "metadata": {
    "application/vnd.databricks.v1+cell": {
     "cellMetadata": {
      "byteLimit": 2048000,
      "rowLimit": 10000
     },
     "inputWidgets": {},
     "nuid": "4aae3ec9-c7c8-4313-83f2-521a735e6650",
     "showTitle": false,
     "tableResultSettingsMap": {},
     "title": ""
    }
   },
   "outputs": [],
   "source": [
    "# Função para calcular o custo de um cluster do Databricks\n",
    "\n",
    "def calcular_custo_databricks(num_nos, horas, custo_por_instancia, taxa_dbu, nome_instancia):\n",
    "    \"\"\"\n",
    "    Calcula o custo total de um cluster do Databricks.\n",
    "\n",
    "    :param num_nos: Número de nós no cluster\n",
    "    :param horas: Número de horas de uso\n",
    "    :param custo_por_instancia: Custo por hora da instância\n",
    "    :param taxa_dbu: Taxa de DBU por hora\n",
    "    :param nome_instancia: Nome do tipo de instância (ex: 'Standard_D3_v2', 'Standard_F4s_v2')\n",
    "    :return: Custo total do cluster\n",
    "    \"\"\"\n",
    "    custo_total_instancia = num_nos * custo_por_instancia * horas\n",
    "    custo_total_dbu = taxa_dbu * horas\n",
    "    custo_total = custo_total_instancia + custo_total_dbu\n",
    "    return custo_total\n",
    "\n",
    "# Exemplo de cálculo usando instâncias do Azure\n",
    "num_nos = 5\n",
    "horas = 10\n",
    "custo_por_instancia = 0.75   # Exemplo de custo por hora da VM 'Standard_DS3_v2'\n",
    "taxa_dbu = 0.55              # Exemplo de taxa de DBU por hora\n",
    "nome_instancia = 'Standard_DS3_v2'  # Nome da instância do Azure\n",
    "\n",
    "custo_total = calcular_custo_databricks(num_nos, horas, custo_por_instancia, taxa_dbu, nome_instancia)\n",
    "print(f\"Custo Total do Cluster Databricks ({nome_instancia}): ${custo_total:.2f}\")\n",
    "\n",
    "\n",
    "\n",
    "# Documentação para acessar os preços do databricks/Azure\n",
    "    # https://www.databricks.com/br/product/pricing/datascience-ml\n",
    "    # https://azure.microsoft.com/en-us/pricing/calculator/?msockid=0ab04d45aa92669c37385817ab2b67ed"
   ]
  },
  {
   "cell_type": "markdown",
   "metadata": {
    "application/vnd.databricks.v1+cell": {
     "cellMetadata": {
      "byteLimit": 2048000,
      "rowLimit": 10000
     },
     "inputWidgets": {},
     "nuid": "5debdb0b-ff72-4deb-b976-1d9aab4200ef",
     "showTitle": false,
     "tableResultSettingsMap": {},
     "title": ""
    }
   },
   "source": [
    "# Conclusão\n",
    "\n",
    "Clusters do Databricks oferecem capacidades poderosas para processamento de big data, mas entender sua estrutura de custos é crucial para uma gestão eficaz do orçamento. Ao aproveitar a escalabilidade e o desempenho do Databricks, você pode otimizar seus fluxos de trabalho de dados enquanto mantém os custos sob controle."
   ]
  },
  {
   "cell_type": "markdown",
   "metadata": {
    "application/vnd.databricks.v1+cell": {
     "cellMetadata": {
      "byteLimit": 2048000,
      "rowLimit": 10000
     },
     "inputWidgets": {},
     "nuid": "c0dc6c04-e7c1-4d6f-8199-c89a0c88db84",
     "showTitle": false,
     "tableResultSettingsMap": {},
     "title": ""
    }
   },
   "source": [
    "## Documentação\n",
    "\n",
    "- [Documentação do Databricks](https://docs.databricks.com/)\n",
    "- [Documentação do Apache Spark](https://spark.apache.org/documentation.html)\n",
    "- [Azure Preços do Provedor de Nuvem](https://azure.microsoft.com/pt-br/pricing/calculator/?msockid=0ab04d45aa92669c37385817ab2b67ed)"
   ]
  }
 ],
 "metadata": {
  "application/vnd.databricks.v1+notebook": {
   "computePreferences": null,
   "dashboards": [],
   "environmentMetadata": {
    "base_environment": "",
    "environment_version": "2"
   },
   "language": "python",
   "notebookMetadata": {
    "pythonIndentUnit": 4
   },
   "notebookName": "01- Cluster",
   "widgets": {}
  },
  "language_info": {
   "name": "python"
  }
 },
 "nbformat": 4,
 "nbformat_minor": 0
}
