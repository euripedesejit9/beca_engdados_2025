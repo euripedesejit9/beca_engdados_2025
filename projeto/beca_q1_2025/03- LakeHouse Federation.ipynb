{
 "cells": [
  {
   "cell_type": "markdown",
   "metadata": {
    "application/vnd.databricks.v1+cell": {
     "cellMetadata": {},
     "inputWidgets": {},
     "nuid": "35ea6d01-d7a0-4b42-84a6-80950c885ecf",
     "showTitle": false,
     "tableResultSettingsMap": {},
     "title": ""
    }
   },
   "source": [
    "# Introdução ao Lakehouse Federation\n",
    "\n",
    "Lakehouse Federation é uma abordagem de arquitetura de dados que combina as capacidades de armazenamento de data lakes com funcionalidades de data warehouses, permitindo acesso federado a dados de múltiplas fontes sem a necessidade de mover grandes volumes de dados."
   ]
  },
  {
   "cell_type": "markdown",
   "metadata": {
    "application/vnd.databricks.v1+cell": {
     "cellMetadata": {},
     "inputWidgets": {},
     "nuid": "d6fc2e8f-f364-4a0e-a7f0-a4d1d98a294e",
     "showTitle": false,
     "tableResultSettingsMap": {},
     "title": ""
    }
   },
   "source": [
    "O objetivo do Lakehouse Federation é unificar o acesso e processamento de dados, integrando diversas fontes de maneira eficiente e flexível."
   ]
  },
  {
   "cell_type": "markdown",
   "metadata": {
    "application/vnd.databricks.v1+cell": {
     "cellMetadata": {},
     "inputWidgets": {},
     "nuid": "a8b4b036-9d2d-4c63-ad7e-b2c61ea238c8",
     "showTitle": false,
     "tableResultSettingsMap": {},
     "title": ""
    }
   },
   "source": [
    "## O que é Lakehouse Federation?\n",
    "\n",
    "Lakehouse Federation é uma evolução na arquitetura de dados que visa **integrar data lakes e data warehouses**, proporcionando uma plataforma única para o gerenciamento e análise de dados.\n",
    "\n",
    "A Lakehouse Federation foi criada para casos de uso em que:\n",
    "\n",
    "- Você não deseja ingerir dados no Databricks.\n",
    "- Você deseja que suas consultas aproveitem a computação no sistema de banco de dados externo.\n",
    "- Você deseja as vantagens das interfaces do Unity Catalog e da governança de dados, incluindo controle de acesso refinado, linhagem de dados e pesquisa."
   ]
  },
  {
   "cell_type": "markdown",
   "metadata": {
    "application/vnd.databricks.v1+cell": {
     "cellMetadata": {},
     "inputWidgets": {},
     "nuid": "61f10ef4-6f0d-40fa-beab-64f0575aa524",
     "showTitle": false,
     "tableResultSettingsMap": {},
     "title": ""
    }
   },
   "source": [
    "## Fonte de dados suportada\n",
    "A Lakehouse Federation oferece suporte a conexões com as seguintes fontes:\n",
    "\n",
    "- MySQL\n",
    "- PostgreSQL\n",
    "- Teradata\n",
    "- Oracle\n",
    "- Amazon Redshift\n",
    "- Nuvem de dados do Salesforce\n",
    "- Snowflake\n",
    "- Microsoft SQL Server\n",
    "- Azure Synapse (SQL Data Warehouse)\n",
    "- Google BigQuery\n",
    "- Databricks\n",
    "- Hive metastore"
   ]
  },
  {
   "cell_type": "markdown",
   "metadata": {
    "application/vnd.databricks.v1+cell": {
     "cellMetadata": {},
     "inputWidgets": {},
     "nuid": "884a3086-883c-44a4-bca7-de5cdc3bd820",
     "showTitle": false,
     "tableResultSettingsMap": {},
     "title": ""
    }
   },
   "source": [
    "## Vantagens do Lakehouse Federation\n",
    "\n",
    "1. **Unificação de Dados:** Fornece uma visão unificada de dados, independentemente de onde estão armazenados.\n",
    "2. **Agilidade:** Permite consultas rápidas sobre grandes volumes de dados.\n",
    "3. **Economia de Custos:** Reduz o custo de armazenamento e infraestrutura ao evitar duplicação de dados.\n",
    "4. **Escalabilidade:** Capaz de lidar com grandes volumes de dados e diversas fontes.\n",
    "5. **Compatibilidade:** Suporta múltiplos formatos de dados e integra-se com ferramentas analíticas existentes."
   ]
  },
  {
   "cell_type": "markdown",
   "metadata": {
    "application/vnd.databricks.v1+cell": {
     "cellMetadata": {},
     "inputWidgets": {},
     "nuid": "b478b085-edee-4d5a-804b-81e2d4c15c33",
     "showTitle": false,
     "tableResultSettingsMap": {},
     "title": ""
    }
   },
   "source": [
    "## Desvantagens do Lakehouse Federation\n",
    "\n",
    "1. **Complexidade de Implementação:** Requer integração cuidadosa entre diferentes sistemas.\n",
    "2. **Gerenciamento de Metadados:** Necessita de um catálogo de dados robusto para manter consistência.\n",
    "3. **Performance:** Pode haver impactos na performance em consultas complexas ou extensivas.\n",
    "4. **Segurança e Governança:** Garantir a segurança dos dados e conformidade regulatória pode ser desafiador."
   ]
  },
  {
   "cell_type": "markdown",
   "metadata": {
    "application/vnd.databricks.v1+cell": {
     "cellMetadata": {},
     "inputWidgets": {},
     "nuid": "5c1fa58e-375a-4807-92c7-1c1c0bec6c00",
     "showTitle": false,
     "tableResultSettingsMap": {},
     "title": ""
    }
   },
   "source": [
    "## Conclusão\n",
    "\n",
    "Lakehouse Federation representa uma evolução significativa na maneira como as organizações gerenciam e analisam dados. Ao integrar data lakes e data warehouses, Lakehouse Federation oferece flexibilidade e poder analítico, maximizando o valor dos dados armazenados.\n",
    "\n",
    "A integração com notebooks facilita a interação e análise de dados federados, oferecendo um ambiente colaborativo e eficiente para cientistas de dados e analistas.\n"
   ]
  },
  {
   "cell_type": "markdown",
   "metadata": {
    "application/vnd.databricks.v1+cell": {
     "cellMetadata": {},
     "inputWidgets": {},
     "nuid": "5a8d963b-e88a-406b-b2ae-536135835c3f",
     "showTitle": false,
     "tableResultSettingsMap": {},
     "title": ""
    }
   },
   "source": [
    "\n",
    "### Documentação\n",
    "https://docs.databricks.com/aws/pt/query-federation/"
   ]
  }
 ],
 "metadata": {
  "application/vnd.databricks.v1+notebook": {
   "computePreferences": null,
   "dashboards": [],
   "environmentMetadata": {
    "base_environment": "",
    "environment_version": "2"
   },
   "language": "python",
   "notebookMetadata": {
    "mostRecentlyExecutedCommandWithImplicitDF": {
     "commandId": 381970919306970,
     "dataframes": [
      "_sqldf"
     ]
    },
    "pythonIndentUnit": 4
   },
   "notebookName": "03- LakeHouse Federation",
   "widgets": {}
  },
  "language_info": {
   "name": "python"
  }
 },
 "nbformat": 4,
 "nbformat_minor": 0
}
