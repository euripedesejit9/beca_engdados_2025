{
 "cells": [
  {
   "cell_type": "code",
   "execution_count": 0,
   "metadata": {
    "application/vnd.databricks.v1+cell": {
     "cellMetadata": {},
     "inputWidgets": {},
     "nuid": "f7b200ac-8bed-4d5c-8b57-16eaa3913ec8",
     "showTitle": false,
     "tableResultSettingsMap": {},
     "title": ""
    }
   },
   "outputs": [],
   "source": [
    "class SqlConnector:\n",
    "    \"\"\"\n",
    "    Classe Responsavel por connectar ao database SQL SERVER\n",
    "    \"\"\"\n",
    "\n",
    "    # Defina as propriedades de conexão\n",
    "    PROPERTIES = {\n",
    "        \"host_name\": dbutils.secrets.get('beca_2025','sql-host-name-farmacia'),\n",
    "        \"user\": dbutils.secrets.get(scope=\"beca_2025\", key=\"sql-user\"),\n",
    "        \"password\": dbutils.secrets.get(scope=\"beca_2025\", key=\"sql-password\"),\n",
    "        \"driver\": \"com.microsoft.sqlserver.jdbc.SQLServerDriver\"\n",
    "    }\n",
    "    \n",
    "        \n",
    "    @staticmethod\n",
    "    def read(database_name, table_name, filter_conditional=\"1=1\"):\n",
    "        return spark.read.jdbc(\n",
    "            url=SqlConnector.PROPERTIES[\"host_name\"] + \";database=\"+database_name,\n",
    "            table=table_name,\n",
    "            properties=SqlConnector.PROPERTIES\n",
    "        ).filter(filter_conditional)"
   ]
  }
 ],
 "metadata": {
  "application/vnd.databricks.v1+notebook": {
   "computePreferences": null,
   "dashboards": [],
   "environmentMetadata": {
    "base_environment": "",
    "environment_version": "2"
   },
   "language": "python",
   "notebookMetadata": {
    "pythonIndentUnit": 4
   },
   "notebookName": "sql_connector",
   "widgets": {}
  },
  "language_info": {
   "name": "python"
  }
 },
 "nbformat": 4,
 "nbformat_minor": 0
}
