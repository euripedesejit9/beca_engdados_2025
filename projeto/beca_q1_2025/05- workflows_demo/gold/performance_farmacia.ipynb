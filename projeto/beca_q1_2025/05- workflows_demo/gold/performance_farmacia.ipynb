{
 "cells": [
  {
   "cell_type": "code",
   "execution_count": 0,
   "metadata": {
    "application/vnd.databricks.v1+cell": {
     "cellMetadata": {
      "byteLimit": 2048000,
      "rowLimit": 10000
     },
     "inputWidgets": {},
     "nuid": "85fefef2-59d4-4ce2-ac0f-7485cecb8f6d",
     "showTitle": false,
     "tableResultSettingsMap": {},
     "title": ""
    }
   },
   "outputs": [],
   "source": [
    "%run  ../connector/sql_connector"
   ]
  },
  {
   "cell_type": "code",
   "execution_count": 0,
   "metadata": {
    "application/vnd.databricks.v1+cell": {
     "cellMetadata": {
      "byteLimit": 2048000,
      "rowLimit": 10000
     },
     "inputWidgets": {},
     "nuid": "034535e2-40f7-4fbf-96cc-230f30e31c14",
     "showTitle": false,
     "tableResultSettingsMap": {},
     "title": ""
    }
   },
   "outputs": [],
   "source": [
    "dbutils.widgets.text(\"full_load\", \"DELTA\")"
   ]
  },
  {
   "cell_type": "code",
   "execution_count": 0,
   "metadata": {
    "application/vnd.databricks.v1+cell": {
     "cellMetadata": {
      "byteLimit": 2048000,
      "rowLimit": 10000
     },
     "inputWidgets": {},
     "nuid": "cf9c790c-31f5-4f74-99e8-41a9e04c4f47",
     "showTitle": false,
     "tableResultSettingsMap": {},
     "title": ""
    }
   },
   "outputs": [],
   "source": [
    "from pyspark.sql.functions import current_timestamp, sum, count, avg,date_format, round\n",
    "\n",
    "def tabela_delta_existe(uc_table):\n",
    "    try:\n",
    "        spark.sql(f\"DESCRIBE {uc_table}\")\n",
    "        return True\n",
    "    except Exception as e:\n",
    "        return False"
   ]
  },
  {
   "cell_type": "code",
   "execution_count": 0,
   "metadata": {
    "application/vnd.databricks.v1+cell": {
     "cellMetadata": {
      "byteLimit": 2048000,
      "rowLimit": 10000
     },
     "inputWidgets": {},
     "nuid": "f691101c-9111-4994-a38a-d723adb849ed",
     "showTitle": false,
     "tableResultSettingsMap": {},
     "title": ""
    }
   },
   "outputs": [],
   "source": [
    "from delta.tables import *\n",
    "\n",
    "filtro = \"data_venda  >= current_date() - 90\" if dbutils.widgets.get(\"full_load\") == \"DELTA\" else \"1=1\"\n",
    "\n",
    "\n",
    "merge_key = \"target.ano_mes = updates.ano_mes\"\n",
    "\n",
    "dataframe = spark.table(\"\"\"dev.silver.stage__farmacia\"\"\") \\\n",
    "    .withColumn(\"ano_mes\", date_format(\"data_venda\", \"yyyy-MM\")) \\\n",
    "    .filter(filtro) \\\n",
    "    .groupBy(\"ano_mes\") \\\n",
    "    .agg(count(\"venda_id\").alias(\"qtd_vendas\"),\n",
    "        sum(\"valor_total\").alias(\"valor_total_vendas\"),\n",
    "        round((sum(\"valor_total\") / count(\"venda_id\")),2).alias(\"media_venda\")         \n",
    "    ) \\\n",
    "    .withColumn(\"load_ts\", current_timestamp()) \n",
    "\n",
    "print(\"Ingestion mode: \", dbutils.widgets.get(\"full_load\"))\n",
    "if tabela_delta_existe(\"dev.gold.performance_farmacia\"):\n",
    "    spark.conf.set(\"spark.databricks.delta.schema.autoMerge.enabled\", True)\n",
    "\n",
    "    DeltaTable.forName(spark, \"hive_metastore.default.performance_farmacia\").alias(\"target\") \\\n",
    "        .merge(dataframe.alias(\"updates\"), merge_key) \\\n",
    "        .whenMatchedUpdateAll() \\\n",
    "        .whenNotMatchedInsertAll() \\\n",
    "        .execute()\n",
    "else:\n",
    "    dataframe \\\n",
    "        .write \\\n",
    "        .format(\"delta\") \\\n",
    "        .saveAsTable(\"dev.gold.performance_farmacia\")"
   ]
  }
 ],
 "metadata": {
  "application/vnd.databricks.v1+notebook": {
   "computePreferences": null,
   "dashboards": [],
   "environmentMetadata": {
    "base_environment": "",
    "environment_version": "2"
   },
   "language": "python",
   "notebookMetadata": {
    "mostRecentlyExecutedCommandWithImplicitDF": {
     "commandId": 4280120058853888,
     "dataframes": [
      "_sqldf"
     ]
    },
    "pythonIndentUnit": 4
   },
   "notebookName": "performance_farmacia",
   "widgets": {
    "full_load": {
     "currentValue": "DELTA",
     "nuid": "b4f2e082-3738-4dfa-82dc-2f7017b2f0fa",
     "typedWidgetInfo": {
      "autoCreated": false,
      "defaultValue": "DELTA",
      "label": null,
      "name": "full_load",
      "options": {
       "widgetDisplayType": "Text",
       "validationRegex": null
      },
      "parameterDataType": "String"
     },
     "widgetInfo": {
      "widgetType": "text",
      "defaultValue": "DELTA",
      "label": null,
      "name": "full_load",
      "options": {
       "widgetType": "text",
       "autoCreated": null,
       "validationRegex": null
      }
     }
    }
   }
  },
  "language_info": {
   "name": "python"
  }
 },
 "nbformat": 4,
 "nbformat_minor": 0
}
