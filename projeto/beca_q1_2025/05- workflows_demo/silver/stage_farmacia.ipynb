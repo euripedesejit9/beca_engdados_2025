{
 "cells": [
  {
   "cell_type": "code",
   "execution_count": 0,
   "metadata": {
    "application/vnd.databricks.v1+cell": {
     "cellMetadata": {
      "byteLimit": 2048000,
      "rowLimit": 10000
     },
     "inputWidgets": {},
     "nuid": "85fefef2-59d4-4ce2-ac0f-7485cecb8f6d",
     "showTitle": false,
     "tableResultSettingsMap": {},
     "title": ""
    }
   },
   "outputs": [],
   "source": [
    "%run  ../connector/sql_connector"
   ]
  },
  {
   "cell_type": "code",
   "execution_count": 0,
   "metadata": {
    "application/vnd.databricks.v1+cell": {
     "cellMetadata": {
      "byteLimit": 2048000,
      "rowLimit": 10000
     },
     "inputWidgets": {},
     "nuid": "034535e2-40f7-4fbf-96cc-230f30e31c14",
     "showTitle": false,
     "tableResultSettingsMap": {},
     "title": ""
    }
   },
   "outputs": [],
   "source": [
    "from pyspark.sql.functions import col\n",
    "\n",
    "dim_fornecedor_df = spark.table(\"\"\"dev.bronze.dim_fornecedores\"\"\").drop(\"id\").select(\"fornecedor_id\", \"nome_fornecedor\")\n",
    "dim_produtos_df = spark.table(\"\"\"dev.bronze.dim_produtos\"\"\").drop(\"id\")\n",
    "dim_usuarios_df = spark.table(\"\"\"dev.bronze.dim_usuarios\"\"\").drop(\"id\")\n",
    "fato_farmacia_df = spark.table(\"\"\"dev.bronze.fato_farmacia\"\"\").drop(\"id\")"
   ]
  },
  {
   "cell_type": "code",
   "execution_count": 0,
   "metadata": {
    "application/vnd.databricks.v1+cell": {
     "cellMetadata": {
      "byteLimit": 2048000,
      "rowLimit": 10000
     },
     "inputWidgets": {},
     "nuid": "f691101c-9111-4994-a38a-d723adb849ed",
     "showTitle": false,
     "tableResultSettingsMap": {
      "0": {
       "filterBlob": "{\"filterGroups\":[],\"syncTimestamp\":1741726202884}",
       "tableResultIndex": 0
      }
     },
     "title": ""
    }
   },
   "outputs": [],
   "source": [
    "cols_select = [\"venda_id\", \"nome_usuario\", \"cidade\", \"estado\", \"pais\",\n",
    "    \"quantidade\", \"valor_total\", \"to_date(data_venda) as data_venda\", \"nome_fornecedor\",\n",
    "    \"nome_produto\", \"categoria\"]\n",
    "\n",
    "fato_farmacia_df \\\n",
    "    .join(dim_produtos_df, [\"produto_id\"]) \\\n",
    "    .join(dim_fornecedor_df, [\"fornecedor_id\"]) \\\n",
    "    .join(dim_usuarios_df, [\"usuario_id\"]) \\\n",
    "    .filter(~col(\"marca\").isin([\"Generics\"])) \\\n",
    "    .selectExpr(*cols_select) \\\n",
    "    .write \\\n",
    "    .format(\"delta\") \\\n",
    "    .mode(\"overwrite\") \\\n",
    "    .saveAsTable(\"dev.silver.stage__farmacia\")"
   ]
  }
 ],
 "metadata": {
  "application/vnd.databricks.v1+notebook": {
   "computePreferences": null,
   "dashboards": [],
   "environmentMetadata": {
    "base_environment": "",
    "environment_version": "2"
   },
   "language": "python",
   "notebookMetadata": {
    "mostRecentlyExecutedCommandWithImplicitDF": {
     "commandId": 4280120058853838,
     "dataframes": [
      "_sqldf"
     ]
    },
    "pythonIndentUnit": 4
   },
   "notebookName": "stage_farmacia",
   "widgets": {}
  },
  "language_info": {
   "name": "python"
  }
 },
 "nbformat": 4,
 "nbformat_minor": 0
}
