{
 "cells": [
  {
   "cell_type": "markdown",
   "metadata": {
    "application/vnd.databricks.v1+cell": {
     "cellMetadata": {},
     "inputWidgets": {},
     "nuid": "b49e2ae5-cea7-4f1f-9cdd-01c391de0d91",
     "showTitle": false,
     "tableResultSettingsMap": {},
     "title": ""
    }
   },
   "source": [
    "# Introdução ao BI no Databricks\n",
    "\n",
    "Business Intelligence (BI) é essencial para transformar dados brutos em insights acionáveis. No Databricks, podemos utilizar SQL Warehouses para consultas eficientes, dashboards para visualização de dados, alertas para monitoramento proativo, e integração com Genie IA para análise avançada."
   ]
  },
  {
   "cell_type": "markdown",
   "metadata": {
    "application/vnd.databricks.v1+cell": {
     "cellMetadata": {},
     "inputWidgets": {},
     "nuid": "78573859-9755-4761-b618-9ab3468139b6",
     "showTitle": false,
     "tableResultSettingsMap": {},
     "title": ""
    }
   },
   "source": [
    "### Objetivos do BI\n",
    "- Transformar dados em informações úteis\n",
    "- Suportar decisões de negócios com base em dados\n",
    "- Automatizar e otimizar processos analíticos"
   ]
  },
  {
   "cell_type": "markdown",
   "metadata": {
    "application/vnd.databricks.v1+cell": {
     "cellMetadata": {},
     "inputWidgets": {},
     "nuid": "1fa681f9-723c-4ae1-953b-78abd9d54064",
     "showTitle": false,
     "tableResultSettingsMap": {},
     "title": ""
    }
   },
   "source": [
    "\n",
    "## Usando SQL Warehouse para Consultas BI\n",
    "\n",
    "SQL Warehouse no Databricks oferece uma plataforma otimizada para executar consultas SQL em grandes volumes de dados. Você pode criar e gerenciar SQL Warehouses para facilitar o acesso a dados em tempo real."
   ]
  },
  {
   "cell_type": "markdown",
   "metadata": {
    "application/vnd.databricks.v1+cell": {
     "cellMetadata": {},
     "inputWidgets": {},
     "nuid": "0b7cb62f-a9d2-41b9-9f7a-ff147bb177f2",
     "showTitle": false,
     "tableResultSettingsMap": {},
     "title": ""
    }
   },
   "source": [
    "### Vantagens do SQL Warehouse\n",
    "- **Desempenho Elevado:** Processa grandes volumes de dados rapidamente.\n",
    "- **Escalabilidade:** Ajusta-se facilmente à carga de trabalho.\n",
    "- **Integração Simples:** Funciona bem com ferramentas de BI e visualização."
   ]
  },
  {
   "cell_type": "markdown",
   "metadata": {
    "application/vnd.databricks.v1+cell": {
     "cellMetadata": {},
     "inputWidgets": {},
     "nuid": "b06fec4d-808f-49a6-8417-766f346bbd91",
     "showTitle": false,
     "tableResultSettingsMap": {},
     "title": ""
    }
   },
   "source": [
    "## Construindo Dashboards no Databricks\n",
    "\n",
    "Dashboards são uma ferramenta poderosa para visualizar dados e insights de forma intuitiva. No Databricks, você pode criar dashboards a partir de resultados de consultas SQL para monitorar KPIs e métricas de negócios."
   ]
  },
  {
   "cell_type": "markdown",
   "metadata": {
    "application/vnd.databricks.v1+cell": {
     "cellMetadata": {},
     "inputWidgets": {},
     "nuid": "5f1b59a6-1b40-4972-bba8-a2889f9590d6",
     "showTitle": false,
     "tableResultSettingsMap": {},
     "title": ""
    }
   },
   "source": [
    "### Como Criar um Dashboard\n",
    "1. Execute uma consulta SQL no SQL Editor.\n",
    "2. Salve o resultado e crie um gráfico ou tabela.\n",
    "3. Adicione os gráficos ao dashboard.\n",
    "4. Personalize o layout e os filtros para facilitar a análise."
   ]
  },
  {
   "cell_type": "markdown",
   "metadata": {
    "application/vnd.databricks.v1+cell": {
     "cellMetadata": {},
     "inputWidgets": {},
     "nuid": "7d1b083c-8260-44af-bcf9-85a1c4f9f390",
     "showTitle": false,
     "tableResultSettingsMap": {},
     "title": ""
    }
   },
   "source": [
    "## Configurando Alertas no Databricks\n",
    "\n",
    "Alertas são cruciais para monitorar mudanças nos dados e tomar ações imediatas. No Databricks, você pode configurar alertas para notificá-lo quando certas condições forem atendidas."
   ]
  },
  {
   "cell_type": "markdown",
   "metadata": {
    "application/vnd.databricks.v1+cell": {
     "cellMetadata": {},
     "inputWidgets": {},
     "nuid": "d7a5e444-0ff0-47a2-90f7-ef8b0f451c72",
     "showTitle": false,
     "tableResultSettingsMap": {},
     "title": ""
    }
   },
   "source": [
    "### Como Configurar um Alerta\n",
    "1. Defina uma consulta SQL que verifica a condição do alerta.\n",
    "2. Configure a frequência de verificação e os critérios do alerta.\n",
    "3. Escolha como deseja ser notificado: email, webhook, etc.\n",
    "\n",
    "### Exemplo de Alerta\n",
    "- Notifique quando as vendas diárias caírem abaixo de um determinado valor."
   ]
  },
  {
   "cell_type": "markdown",
   "metadata": {
    "application/vnd.databricks.v1+cell": {
     "cellMetadata": {},
     "inputWidgets": {},
     "nuid": "01deaeef-8abd-4c58-9760-b323c7eb8149",
     "showTitle": false,
     "tableResultSettingsMap": {},
     "title": ""
    }
   },
   "source": [
    "## Integração com Genie IA para Análise Avançada\n",
    "\n",
    "Genie IA no Databricks oferece capacidades de inteligência artificial para análise preditiva e recomendação. Você pode integrar Genie IA para aprimorar seus insights de BI.\n",
    "\n",
    "### Vantagens da Integração com Genie IA\n",
    "- **Análise Preditiva:** Antecipe tendências e comportamentos futuros.\n",
    "- **Recomendações:** Oferece sugestões baseadas em dados históricos.\n",
    "- **Automatização:** Automatiza decisões com base em algoritmos de IA."
   ]
  },
  {
   "cell_type": "markdown",
   "metadata": {
    "application/vnd.databricks.v1+cell": {
     "cellMetadata": {},
     "inputWidgets": {},
     "nuid": "fed9d70d-0e71-4129-937c-26818aee6fce",
     "showTitle": false,
     "tableResultSettingsMap": {},
     "title": ""
    }
   },
   "source": [
    "### Conclusão\n",
    "\n",
    "O uso de BI no Databricks, incluindo SQL Warehouse, dashboards, alertas, e Genie IA, oferece uma plataforma poderosa para transformar dados em valor de negócios. Ao integrar essas ferramentas, você pode otimizar suas operações e tomar decisões mais informadas.\n",
    "\n",
    "Explore cada componente para maximizar o potencial da sua estratégia de BI."
   ]
  },
  {
   "cell_type": "markdown",
   "metadata": {
    "application/vnd.databricks.v1+cell": {
     "cellMetadata": {},
     "inputWidgets": {},
     "nuid": "0874c102-67f8-4f9a-8522-c6a09b8ffb1c",
     "showTitle": false,
     "tableResultSettingsMap": {},
     "title": ""
    }
   },
   "source": [
    "## Documentação\n",
    "https://learn.microsoft.com/pt-br/azure/databricks/sql/user/alerts/#create-an-alert"
   ]
  }
 ],
 "metadata": {
  "application/vnd.databricks.v1+notebook": {
   "computePreferences": null,
   "dashboards": [],
   "environmentMetadata": {
    "base_environment": "",
    "environment_version": "2"
   },
   "language": "python",
   "notebookMetadata": {
    "pythonIndentUnit": 4
   },
   "notebookName": "06- BI",
   "widgets": {}
  },
  "language_info": {
   "name": "python"
  }
 },
 "nbformat": 4,
 "nbformat_minor": 0
}
