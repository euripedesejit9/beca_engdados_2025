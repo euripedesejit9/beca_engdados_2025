{
 "cells": [
  {
   "cell_type": "markdown",
   "metadata": {
    "application/vnd.databricks.v1+cell": {
     "cellMetadata": {},
     "inputWidgets": {},
     "nuid": "3a81aea0-bb8f-491d-b0bc-2569fe489660",
     "showTitle": false,
     "tableResultSettingsMap": {},
     "title": ""
    }
   },
   "source": [
    "# ETL\n",
    "É uma abordagem  fundamental para a movimentação e transformação de dados em pipelines de dados.\n",
    "\n",
    "Ele consiste em 3 Etapas:\n",
    "\n",
    "**Extract [Extração]**: Coleta dados de diversas fontes, bancos de dados Sql, NoSql, Api, Arquivos (CSV, PARQUET, JSON, XML e  etc..)\n",
    "\n",
    "**Transform [Transformação]**: Limpeza, enriquecimento e aplicação de regra de negocio para garantir que s dados estejam estruturados e prontos para análise.\n",
    "\n",
    "**Load [Carga]**: Gravação de Dados transformados em um destino, como um Data Warehouse, DataLake ou outro sistema de Armazenamento"
   ]
  },
  {
   "cell_type": "markdown",
   "metadata": {
    "application/vnd.databricks.v1+cell": {
     "cellMetadata": {},
     "inputWidgets": {},
     "nuid": "20a8e147-0a17-4fd3-8592-565983ae0e7e",
     "showTitle": false,
     "tableResultSettingsMap": {},
     "title": ""
    }
   },
   "source": [
    "##  Exemplo de ETL\n",
    "\n",
    "Buscando dados em uma database (Sql Server)\n",
    "\n",
    "- Database: db_farmacia_euripedes\n",
    "- Schema = setor_sul\n",
    "- Tabela = fato_farmacia"
   ]
  },
  {
   "cell_type": "code",
   "execution_count": 0,
   "metadata": {
    "application/vnd.databricks.v1+cell": {
     "cellMetadata": {},
     "inputWidgets": {},
     "nuid": "2841b2b4-3752-4de2-9c95-e5b9a7abb73d",
     "showTitle": false,
     "tableResultSettingsMap": {},
     "title": ""
    }
   },
   "outputs": [],
   "source": [
    "# Caso estivessemos em um outro ambiente que nao seja o databricks, seria necessario add o maven no cluster\n",
    "#com.microsoft.sqlserver:mssql-jdbc"
   ]
  },
  {
   "cell_type": "code",
   "execution_count": 0,
   "metadata": {
    "application/vnd.databricks.v1+cell": {
     "cellMetadata": {
      "byteLimit": 2048000,
      "rowLimit": 10000
     },
     "inputWidgets": {},
     "nuid": "3e84490b-406c-4b2f-9d85-0d2d38ee768b",
     "showTitle": false,
     "tableResultSettingsMap": {},
     "title": ""
    }
   },
   "outputs": [],
   "source": [
    "# Defina a URL de conexão JDBC\n",
    "jdbc_url = \"jdbc:sqlserver://fundacao-ejitbr.database.windows.net:1433;database=db_farmacia_euripedes\"\n",
    "\n",
    "# Defina as propriedades de conexão\n",
    "properties = {\n",
    "    \"user\": \"admin_user\",\n",
    "    \"password\": \"80Ab55sd@9\",\n",
    "    \"driver\": \"com.microsoft.sqlserver.jdbc.SQLServerDriver\"\n",
    "}\n",
    "\n",
    "# Ler dados do SQL Server (Tabela)\n",
    "df = spark.read.jdbc(url=jdbc_url, table=\"setor_sul.fato_farmacia\", properties=properties)\n",
    "\n",
    "# Mostrar os dados lidos\n",
    "df.display()\n"
   ]
  },
  {
   "cell_type": "markdown",
   "metadata": {
    "application/vnd.databricks.v1+cell": {
     "cellMetadata": {},
     "inputWidgets": {},
     "nuid": "bf5c2cfe-cd08-4af6-acc0-ca1cb34e4c49",
     "showTitle": false,
     "tableResultSettingsMap": {},
     "title": ""
    }
   },
   "source": [
    "## Como estruturar melhor seu codigo?\n",
    "Trabalhar com POO é o caminho para ter um codigo mais legivel e escalavel.\n"
   ]
  },
  {
   "cell_type": "markdown",
   "metadata": {
    "application/vnd.databricks.v1+cell": {
     "cellMetadata": {},
     "inputWidgets": {},
     "nuid": "b8a6e65a-d04f-4e1f-abc8-e7c26eba80d1",
     "showTitle": false,
     "tableResultSettingsMap": {},
     "title": ""
    }
   },
   "source": [
    "## Criando um segredo no Azure Key Vault\n",
    "\n",
    "https://learn.microsoft.com/en-us/azure/databricks/security/secrets/"
   ]
  },
  {
   "cell_type": "code",
   "execution_count": 0,
   "metadata": {
    "application/vnd.databricks.v1+cell": {
     "cellMetadata": {
      "byteLimit": 2048000,
      "rowLimit": 10000
     },
     "inputWidgets": {},
     "nuid": "c96d4bcc-8f7f-4c0f-9cfa-6ba191c8ea6b",
     "showTitle": false,
     "tableResultSettingsMap": {},
     "title": ""
    }
   },
   "outputs": [],
   "source": [
    "class SqlConnector:\n",
    "    \"\"\"\n",
    "    Classe Responsavel por connectar ao database SQL SERVER\n",
    "    \"\"\"\n",
    "\n",
    "    # Defina as propriedades de conexão\n",
    "    PROPERTIES = {\n",
    "        \"host_name\": dbutils.secrets.get(scope='beca_2025',key='sql-host-name-farmacia'),\n",
    "        \"user\": dbutils.secrets.get(scope=\"beca_2025\", key=\"sql-user\"),\n",
    "        \"password\": dbutils.secrets.get(scope=\"beca_2025\", key=\"sql-password\"),\n",
    "        \"driver\": \"com.microsoft.sqlserver.jdbc.SQLServerDriver\"\n",
    "    }\n",
    "    \n",
    "    \n",
    "    @staticmethod\n",
    "    def read(database_name, table_name, filter_conditional=\"1=1\"):\n",
    "        return spark.read.jdbc(\n",
    "            url=SqlConnector.PROPERTIES[\"host_name\"] + \";database=\"+database_name,\n",
    "            table=table_name,\n",
    "            properties=SqlConnector.PROPERTIES\n",
    "        ).filter(filter_conditional)"
   ]
  },
  {
   "cell_type": "code",
   "execution_count": 0,
   "metadata": {
    "application/vnd.databricks.v1+cell": {
     "cellMetadata": {
      "byteLimit": 2048000,
      "rowLimit": 10000
     },
     "inputWidgets": {},
     "nuid": "3c00d389-08ae-48e5-a0fc-f08ac4411e7b",
     "showTitle": false,
     "tableResultSettingsMap": {},
     "title": ""
    }
   },
   "outputs": [],
   "source": [
    "SqlConnector.read(\"db_farmacia_euripedes\", \"setor_sul.fato_farmacia\").display()"
   ]
  },
  {
   "cell_type": "code",
   "execution_count": 0,
   "metadata": {
    "application/vnd.databricks.v1+cell": {
     "cellMetadata": {
      "byteLimit": 2048000,
      "rowLimit": 10000
     },
     "inputWidgets": {},
     "nuid": "6549eafa-b8a7-4522-8cc3-331de4abc464",
     "showTitle": false,
     "tableResultSettingsMap": {},
     "title": ""
    }
   },
   "outputs": [],
   "source": [
    "SqlConnector().read(\"db_farmacia_euripedes\",\"setor_sul.dim_produtos\").display()"
   ]
  },
  {
   "cell_type": "code",
   "execution_count": 0,
   "metadata": {
    "application/vnd.databricks.v1+cell": {
     "cellMetadata": {
      "byteLimit": 2048000,
      "rowLimit": 10000
     },
     "inputWidgets": {},
     "nuid": "c79fff74-a07e-4296-a4a6-a77e960d91ff",
     "showTitle": false,
     "tableResultSettingsMap": {},
     "title": ""
    }
   },
   "outputs": [],
   "source": [
    "SqlConnector().read(\"db_farmacia_euripedes\",\"setor_sul.dim_fornecedores\").display()"
   ]
  },
  {
   "cell_type": "code",
   "execution_count": 0,
   "metadata": {
    "application/vnd.databricks.v1+cell": {
     "cellMetadata": {
      "byteLimit": 2048000,
      "rowLimit": 10000
     },
     "inputWidgets": {},
     "nuid": "a57d3ad9-66b6-4715-98d8-84140c883c50",
     "showTitle": false,
     "tableResultSettingsMap": {},
     "title": ""
    }
   },
   "outputs": [],
   "source": [
    "SqlConnector().read(\"db_farmacia_euripedes\",\"setor_sul.dim_usuarios\").display()"
   ]
  }
 ],
 "metadata": {
  "application/vnd.databricks.v1+notebook": {
   "computePreferences": null,
   "dashboards": [],
   "environmentMetadata": {
    "base_environment": "",
    "environment_version": "2"
   },
   "language": "python",
   "notebookMetadata": {
    "pythonIndentUnit": 4
   },
   "notebookName": "04- Extract Transform Load",
   "widgets": {}
  },
  "language_info": {
   "name": "python"
  }
 },
 "nbformat": 4,
 "nbformat_minor": 0
}
